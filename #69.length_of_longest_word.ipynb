{
 "cells": [
  {
   "cell_type": "code",
   "execution_count": 2,
   "id": "2b067bbc",
   "metadata": {},
   "outputs": [
    {
     "name": "stdout",
     "output_type": "stream",
     "text": [
      "Enter a list of words with comma seperated: python,java,cobol,kotlin,swift\n",
      "Length of longest word is 6\n"
     ]
    }
   ],
   "source": [
    "#Accept a list of words and return length of longest word.\n",
    "l=[]\n",
    "l1=list(input(\"Enter a list of words with comma seperated: \").split(\",\"))\n",
    "for i in l1:\n",
    "    l.append(len(i))\n",
    "print('Length of longest word is',max(l))"
   ]
  },
  {
   "cell_type": "code",
   "execution_count": null,
   "id": "ecd748d8",
   "metadata": {},
   "outputs": [],
   "source": []
  }
 ],
 "metadata": {
  "kernelspec": {
   "display_name": "Python 3 (ipykernel)",
   "language": "python",
   "name": "python3"
  },
  "language_info": {
   "codemirror_mode": {
    "name": "ipython",
    "version": 3
   },
   "file_extension": ".py",
   "mimetype": "text/x-python",
   "name": "python",
   "nbconvert_exporter": "python",
   "pygments_lexer": "ipython3",
   "version": "3.9.13"
  }
 },
 "nbformat": 4,
 "nbformat_minor": 5
}
