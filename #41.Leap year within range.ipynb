{
 "cells": [
  {
   "cell_type": "code",
   "execution_count": 9,
   "metadata": {},
   "outputs": [
    {
     "name": "stdout",
     "output_type": "stream",
     "text": [
      "Enter starting limit: 1999\n",
      "Enter ending limit: 2150\n",
      "Leap Years from 1999 to 2150 are:\n",
      "2000\n",
      "2004\n",
      "2008\n",
      "2012\n",
      "2016\n",
      "2020\n",
      "2024\n",
      "2028\n",
      "2032\n",
      "2036\n",
      "2040\n",
      "2044\n",
      "2048\n",
      "2052\n",
      "2056\n",
      "2060\n",
      "2064\n",
      "2068\n",
      "2072\n",
      "2076\n",
      "2080\n",
      "2084\n",
      "2088\n",
      "2092\n",
      "2096\n",
      "2104\n",
      "2108\n",
      "2112\n",
      "2116\n",
      "2120\n",
      "2124\n",
      "2128\n",
      "2132\n",
      "2136\n",
      "2140\n",
      "2144\n",
      "2148\n"
     ]
    }
   ],
   "source": [
    "#leap year within a limit\n",
    "a=int(input('Enter starting limit: '))\n",
    "b=int(input('Enter ending limit: ' ))\n",
    "print('Leap Years from %d to %d are:'%(a,b))\n",
    "for i in range(a,b+1):\n",
    "    if(i%4==0 and i%100!=0):\n",
    "        print(i)\n",
    "    elif(i%400==0):\n",
    "        print(i)"
   ]
  },
  {
   "cell_type": "code",
   "execution_count": null,
   "metadata": {
    "collapsed": true
   },
   "outputs": [],
   "source": []
  }
 ],
 "metadata": {
  "kernelspec": {
   "display_name": "Python 3",
   "language": "python",
   "name": "python3"
  },
  "language_info": {
   "codemirror_mode": {
    "name": "ipython",
    "version": 3
   },
   "file_extension": ".py",
   "mimetype": "text/x-python",
   "name": "python",
   "nbconvert_exporter": "python",
   "pygments_lexer": "ipython3",
   "version": "3.6.3"
  }
 },
 "nbformat": 4,
 "nbformat_minor": 2
}
