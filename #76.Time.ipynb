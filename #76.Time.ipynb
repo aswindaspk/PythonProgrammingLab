{
 "cells": [
  {
   "cell_type": "code",
   "execution_count": 4,
   "metadata": {},
   "outputs": [
    {
     "name": "stdout",
     "output_type": "stream",
     "text": [
      "Enter hour 1: 2\n",
      "enter minute 1: 45\n",
      "enter second 1: 56\n",
      "Enter hour 2: 4\n",
      "enter minute 2: 234\n",
      "enter second 2: 354\n",
      "\n",
      "Added time:  10 Hour(s)  39 Minute(s)  50 Second(s)\n"
     ]
    }
   ],
   "source": [
    "#Create a class Time with private attributes hour,minute and second. Overload ‘+’ operator to find sum of 2 time.\n",
    "class time:\n",
    "    def __init__(self,hr,mint,sec):\n",
    "        self.__h=hr\n",
    "        self.__m=mint\n",
    "        self.__s=sec\n",
    "    def __add__(self,other):\n",
    "        hh=self.__h+other.__h\n",
    "        ss=self.__s+other.__s\n",
    "        mm=self.__m+other.__m\n",
    "        if (ss>=60):\n",
    "            m=int(ss/60)\n",
    "            ss=ss%60\n",
    "        if (mm>=60):\n",
    "            h=int(mm/60)\n",
    "            mm=mm%60\n",
    "            hh+=h\n",
    "            print(\"\\nAdded time: \",hh, \"Hour(s) \",mm, \"Minute(s) \", ss,\"Second(s)\")\n",
    "            \n",
    "h1=int(input(\"Enter hour 1: \"))\n",
    "m1=int(input(\"enter minute 1: \"))\n",
    "s1=int(input(\"enter second 1: \"))\n",
    "\n",
    "h2=int(input(\"Enter hour 2: \"))\n",
    "m2=int(input(\"enter minute 2: \"))\n",
    "s2=int(input(\"enter second 2: \"))\n",
    "t1=time(h1,m1,s1)\n",
    "t2=time(h2,m2,s2)\n",
    "t1+t2"
   ]
  },
  {
   "cell_type": "code",
   "execution_count": null,
   "metadata": {
    "collapsed": true
   },
   "outputs": [],
   "source": []
  }
 ],
 "metadata": {
  "kernelspec": {
   "display_name": "Python 3",
   "language": "python",
   "name": "python3"
  },
  "language_info": {
   "codemirror_mode": {
    "name": "ipython",
    "version": 3
   },
   "file_extension": ".py",
   "mimetype": "text/x-python",
   "name": "python",
   "nbconvert_exporter": "python",
   "pygments_lexer": "ipython3",
   "version": "3.6.3"
  }
 },
 "nbformat": 4,
 "nbformat_minor": 2
}
