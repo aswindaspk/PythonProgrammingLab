{
 "cells": [
  {
   "cell_type": "code",
   "execution_count": null,
   "metadata": {},
   "outputs": [
    {
     "name": "stdout",
     "output_type": "stream",
     "text": [
      "\n",
      "1.Rectangle\n",
      "2.Circle\n",
      "3.Exit\n",
      "Enter your choice: 2\n",
      "\n",
      "Enter radius: 10\n",
      "\n",
      "Area of Circle:  314.0\n",
      "\n",
      "Perimeter of circle:  62.800000000000004\n",
      "\n",
      "1.Rectangle\n",
      "2.Circle\n",
      "3.Exit\n"
     ]
    }
   ],
   "source": [
    "import rectangle_cicle\n",
    "while(1):\n",
    "    print(\"\\n1.Rectangle\\n2.Circle\\n3.Exit\")\n",
    "    ch=int(input(\"Enter your choice: \"))\n",
    "    if ch==1:\n",
    "        l=int(input(\"\\nEnter length: \"))\n",
    "        b = int(input(\"\\nEnter breadth: \"))\n",
    "        rectangle_cicle.rectarea(l,b)\n",
    "        rectangle_cicle.rectperi(l,b)\n",
    "    elif ch==2:\n",
    "        r = int(input(\"\\nEnter radius: \"))\n",
    "        rectangle_cicle.circlearea(r)\n",
    "        rectangle_cicle.circleperi(r)\n",
    "    else:\n",
    "        print(\"\\nExiting...\")\n",
    "        break"
   ]
  },
  {
   "cell_type": "code",
   "execution_count": null,
   "metadata": {
    "collapsed": true
   },
   "outputs": [],
   "source": []
  }
 ],
 "metadata": {
  "kernelspec": {
   "display_name": "Python 3",
   "language": "python",
   "name": "python3"
  },
  "language_info": {
   "codemirror_mode": {
    "name": "ipython",
    "version": 3
   },
   "file_extension": ".py",
   "mimetype": "text/x-python",
   "name": "python",
   "nbconvert_exporter": "python",
   "pygments_lexer": "ipython3",
   "version": "3.6.3"
  }
 },
 "nbformat": 4,
 "nbformat_minor": 2
}
