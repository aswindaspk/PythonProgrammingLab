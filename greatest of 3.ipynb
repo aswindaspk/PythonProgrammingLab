{
 "cells": [
  {
   "cell_type": "code",
   "execution_count": 4,
   "metadata": {},
   "outputs": [
    {
     "name": "stdout",
     "output_type": "stream",
     "text": [
      "Enter 1st number: 09\n",
      "Enter 2nd number: 5\n",
      "Enter 3rd number: 3\n",
      "9 is the greatest\n"
     ]
    }
   ],
   "source": [
    "a=int(input('Enter 1st number: '))\n",
    "b=int(input('Enter 2nd number: '))\n",
    "c=int(input('Enter 3rd number: '))\n",
    "if(a<b):\n",
    "    if(b<c):\n",
    "        print('%d is the greatest' %c)\n",
    "        \n",
    "    else:\n",
    "        print('%d is the greatest' %b)\n",
    "else:\n",
    "    print('%d is the greatest' %a)"
   ]
  },
  {
   "cell_type": "code",
   "execution_count": null,
   "metadata": {
    "collapsed": true
   },
   "outputs": [],
   "source": []
  }
 ],
 "metadata": {
  "kernelspec": {
   "display_name": "Python 3",
   "language": "python",
   "name": "python3"
  },
  "language_info": {
   "codemirror_mode": {
    "name": "ipython",
    "version": 3
   },
   "file_extension": ".py",
   "mimetype": "text/x-python",
   "name": "python",
   "nbconvert_exporter": "python",
   "pygments_lexer": "ipython3",
   "version": "3.6.3"
  }
 },
 "nbformat": 4,
 "nbformat_minor": 2
}
