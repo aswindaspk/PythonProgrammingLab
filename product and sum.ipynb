{
 "cells": [
  {
   "cell_type": "code",
   "execution_count": 1,
   "metadata": {},
   "outputs": [
    {
     "name": "stdout",
     "output_type": "stream",
     "text": [
      "Enter 1st number: 44\n",
      "Enter 2nd number: 45\n",
      "The product of 44 and 45 is  1980\n",
      "The sum of 44 and 45 is  89\n"
     ]
    }
   ],
   "source": [
    "a=int(input('Enter 1st number: '))\n",
    "b=int(input('Enter 2nd number: '))\n",
    "if(a*b>1000):\n",
    "    print('The product of %d and %d is  %d' %(a,b,a*b))\n",
    "    print('The sum of %d and %d is  %d' %(a,b,a+b))"
   ]
  },
  {
   "cell_type": "code",
   "execution_count": null,
   "metadata": {
    "collapsed": true
   },
   "outputs": [],
   "source": []
  }
 ],
 "metadata": {
  "kernelspec": {
   "display_name": "Python 3",
   "language": "python",
   "name": "python3"
  },
  "language_info": {
   "codemirror_mode": {
    "name": "ipython",
    "version": 3
   },
   "file_extension": ".py",
   "mimetype": "text/x-python",
   "name": "python",
   "nbconvert_exporter": "python",
   "pygments_lexer": "ipython3",
   "version": "3.6.3"
  }
 },
 "nbformat": 4,
 "nbformat_minor": 2
}
