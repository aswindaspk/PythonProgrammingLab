{
 "cells": [
  {
   "cell_type": "code",
   "execution_count": 17,
   "metadata": {},
   "outputs": [
    {
     "name": "stdout",
     "output_type": "stream",
     "text": [
      "Enter a string including alphabets and numbers: 123asdfgh\n",
      "Number of alphabets are:  6\n",
      "Number of numerics are:  3\n"
     ]
    }
   ],
   "source": [
    "#Python program that accepts a string and calculate the number of digits\n",
    "a=input('Enter a string including alphabets and numbers: ')\n",
    "l=len(a)\n",
    "c=0\n",
    "d=0\n",
    "for i in range(l):\n",
    "    x=a[i].isalpha()\n",
    "    if(x==True):\n",
    "        c=c+1\n",
    "for i in range(l):\n",
    "    x=a[i].isdigit()\n",
    "    if(x==True):\n",
    "        d=d+1\n",
    "print('Number of alphabets are: ',c)\n",
    "print('Number of numerics are: ',d)\n",
    "    "
   ]
  },
  {
   "cell_type": "code",
   "execution_count": null,
   "metadata": {
    "collapsed": true
   },
   "outputs": [],
   "source": []
  }
 ],
 "metadata": {
  "kernelspec": {
   "display_name": "Python 3",
   "language": "python",
   "name": "python3"
  },
  "language_info": {
   "codemirror_mode": {
    "name": "ipython",
    "version": 3
   },
   "file_extension": ".py",
   "mimetype": "text/x-python",
   "name": "python",
   "nbconvert_exporter": "python",
   "pygments_lexer": "ipython3",
   "version": "3.6.3"
  }
 },
 "nbformat": 4,
 "nbformat_minor": 2
}
