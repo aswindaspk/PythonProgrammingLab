{
 "cells": [
  {
   "cell_type": "code",
   "execution_count": 11,
   "metadata": {},
   "outputs": [
    {
     "name": "stdout",
     "output_type": "stream",
     "text": [
      "Enter a string including alphabets and numbers: 123asdf\n",
      "Number of alphabets are  4\n",
      "Number of alphabets are  3\n"
     ]
    }
   ],
   "source": [
    "a=input('Enter a string including alphabets and numbers: ')\n",
    "l=len(a)\n",
    "c=0\n",
    "d=0\n",
    "for i in range(l):\n",
    "    x=a[i].isalpha()\n",
    "    if(x==True):\n",
    "        c=c+1\n",
    "for i in range(l):\n",
    "    x=a[i].isalpha()\n",
    "    if(x==False):\n",
    "        d=d+1\n",
    "print('Number of alphabets are: ',c)\n",
    "print('Number of alphabets are: ',d)\n",
    "    "
   ]
  },
  {
   "cell_type": "code",
   "execution_count": null,
   "metadata": {
    "collapsed": true
   },
   "outputs": [],
   "source": []
  }
 ],
 "metadata": {
  "kernelspec": {
   "display_name": "Python 3",
   "language": "python",
   "name": "python3"
  },
  "language_info": {
   "codemirror_mode": {
    "name": "ipython",
    "version": 3
   },
   "file_extension": ".py",
   "mimetype": "text/x-python",
   "name": "python",
   "nbconvert_exporter": "python",
   "pygments_lexer": "ipython3",
   "version": "3.6.3"
  }
 },
 "nbformat": 4,
 "nbformat_minor": 2
}
