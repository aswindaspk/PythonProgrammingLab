{
 "cells": [
  {
   "cell_type": "code",
   "execution_count": 3,
   "metadata": {},
   "outputs": [
    {
     "name": "stdout",
     "output_type": "stream",
     "text": [
      "Enter the number: 6\n",
      "\n",
      "Multiplcation table of 6\n",
      "1*6=6\n",
      "2*6=12\n",
      "3*6=18\n",
      "4*6=24\n",
      "5*6=30\n",
      "6*6=36\n",
      "7*6=42\n",
      "8*6=48\n",
      "9*6=54\n",
      "10*6=60\n"
     ]
    }
   ],
   "source": [
    "#multiplication table of a number\n",
    "n=int(input('Enter the number: '))\n",
    "i=1\n",
    "print('\\nMultiplcation table of',n)\n",
    "while(i<=10):\n",
    "    p=i*n\n",
    "    print('%d*%d=%d' %(i,n,p))\n",
    "    i=i+1"
   ]
  },
  {
   "cell_type": "code",
   "execution_count": null,
   "metadata": {
    "collapsed": true
   },
   "outputs": [],
   "source": []
  }
 ],
 "metadata": {
  "kernelspec": {
   "display_name": "Python 3",
   "language": "python",
   "name": "python3"
  },
  "language_info": {
   "codemirror_mode": {
    "name": "ipython",
    "version": 3
   },
   "file_extension": ".py",
   "mimetype": "text/x-python",
   "name": "python",
   "nbconvert_exporter": "python",
   "pygments_lexer": "ipython3",
   "version": "3.6.3"
  }
 },
 "nbformat": 4,
 "nbformat_minor": 2
}
