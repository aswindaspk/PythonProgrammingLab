{
 "cells": [
  {
   "cell_type": "code",
   "execution_count": 1,
   "id": "ff8a3334",
   "metadata": {},
   "outputs": [
    {
     "name": "stdout",
     "output_type": "stream",
     "text": [
      "{1: 'Apple', 2: 'Orange', 3: 'Pineapple'}\n",
      "{4: 'Potato', 5: 'Tomato', 6: 'Onion'}\n",
      "Merging two dictionaries: {1: 'Apple', 2: 'Orange', 3: 'Pineapple', 4: 'Potato', 5: 'Tomato', 6: 'Onion'}\n"
     ]
    }
   ],
   "source": [
    "#Merge two dictionaries.\n",
    "a={1:'Apple',2:'Orange',3:'Pineapple'}\n",
    "b={4:'Potato',5:'Tomato',6:'Onion'}\n",
    "print(a)\n",
    "print(b)\n",
    "c=a\n",
    "c.update(b)\n",
    "print(\"Merging two dictionaries:\",c)"
   ]
  },
  {
   "cell_type": "code",
   "execution_count": null,
   "id": "7bd2ba2f",
   "metadata": {},
   "outputs": [],
   "source": []
  }
 ],
 "metadata": {
  "kernelspec": {
   "display_name": "Python 3 (ipykernel)",
   "language": "python",
   "name": "python3"
  },
  "language_info": {
   "codemirror_mode": {
    "name": "ipython",
    "version": 3
   },
   "file_extension": ".py",
   "mimetype": "text/x-python",
   "name": "python",
   "nbconvert_exporter": "python",
   "pygments_lexer": "ipython3",
   "version": "3.9.13"
  }
 },
 "nbformat": 4,
 "nbformat_minor": 5
}
