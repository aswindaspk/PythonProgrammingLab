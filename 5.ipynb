{
 "cells": [
  {
   "cell_type": "code",
   "execution_count": 1,
   "metadata": {},
   "outputs": [
    {
     "name": "stdout",
     "output_type": "stream",
     "text": [
      "Enter the Initial amount: 10000\n",
      "Enter the Number of Years: 6\n",
      "Enter the Rate of Interest: 9\n",
      "Simple interest is: 5400\n",
      "Total amount after 6 year(s) is: 15400\n"
     ]
    }
   ],
   "source": [
    "#simple interest\n",
    "i=int(input('Enter the Initial amount: '))\n",
    "n=int(input('Enter the Number of Years: '))\n",
    "r=int(input('Enter the Rate of Interest: '))\n",
    "print('Simple interest is: %d' %((i*n*r)/100))\n",
    "print('Total amount after %d year(s) is: %d'%(n,i+(i*n*r)/100))"
   ]
  },
  {
   "cell_type": "code",
   "execution_count": null,
   "metadata": {
    "collapsed": true
   },
   "outputs": [],
   "source": []
  }
 ],
 "metadata": {
  "kernelspec": {
   "display_name": "Python 3",
   "language": "python",
   "name": "python3"
  },
  "language_info": {
   "codemirror_mode": {
    "name": "ipython",
    "version": 3
   },
   "file_extension": ".py",
   "mimetype": "text/x-python",
   "name": "python",
   "nbconvert_exporter": "python",
   "pygments_lexer": "ipython3",
   "version": "3.6.3"
  }
 },
 "nbformat": 4,
 "nbformat_minor": 2
}
