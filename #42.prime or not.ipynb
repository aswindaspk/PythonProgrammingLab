{
 "cells": [
  {
   "cell_type": "code",
   "execution_count": 7,
   "metadata": {},
   "outputs": [
    {
     "name": "stdout",
     "output_type": "stream",
     "text": [
      "Enter a number: 2\n",
      "2 is a prime number\n"
     ]
    }
   ],
   "source": [
    "#prime number\n",
    "a=int(input('Enter a number: '))\n",
    "if(a>=2):\n",
    "    for i in range(2,a):\n",
    "        if(a%i==0):\n",
    "            print(a,'is not a prime number')\n",
    "            break\n",
    "    else:\n",
    "        print(a,'is a prime number')\n",
    "elif(a==1 or a==2):\n",
    "    print(a, 'is neither prime norr composite')\n",
    "else:\n",
    "    print(n,'is nt a prime number')"
   ]
  },
  {
   "cell_type": "code",
   "execution_count": null,
   "metadata": {
    "collapsed": true
   },
   "outputs": [],
   "source": []
  }
 ],
 "metadata": {
  "kernelspec": {
   "display_name": "Python 3",
   "language": "python",
   "name": "python3"
  },
  "language_info": {
   "codemirror_mode": {
    "name": "ipython",
    "version": 3
   },
   "file_extension": ".py",
   "mimetype": "text/x-python",
   "name": "python",
   "nbconvert_exporter": "python",
   "pygments_lexer": "ipython3",
   "version": "3.6.3"
  }
 },
 "nbformat": 4,
 "nbformat_minor": 2
}
