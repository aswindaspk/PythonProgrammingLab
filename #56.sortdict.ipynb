{
 "cells": [
  {
   "cell_type": "code",
   "execution_count": 11,
   "id": "44529158",
   "metadata": {},
   "outputs": [
    {
     "name": "stdout",
     "output_type": "stream",
     "text": [
      "\n",
      " DICTIONARY =  {10: 'messi', 7: 'ronaldo', 11: 'neymar', 9: 'lewandoski'}\n",
      "\n",
      " Dictionary in Ascending order :\n",
      " {7: 'ronaldo', 9: 'lewandoski', 10: 'messi', 11: 'neymar'}\n",
      "\n",
      " Dictionary in Descending order :\n",
      " {11: 'neymar', 10: 'messi', 9: 'lewandoski', 7: 'ronaldo'}\n"
     ]
    }
   ],
   "source": [
    "#56. Sort dictionary in ascending and descending order.\n",
    "d={10:'messi',7:'ronaldo',11:'neymar',9:'lewandoski'} \n",
    "print(\"\\n DICTIONARY = \",d)\n",
    "items=list(d.items())\n",
    "items.sort()\n",
    "d=dict(items)\n",
    "print(\"\\n Dictionary in Ascending order :\\n\",d)\n",
    " \n",
    "items=list(d.items())\n",
    "items.reverse()\n",
    "d=dict(items)\n",
    "print(\"\\n Dictionary in Descending order :\\n\",d)"
   ]
  },
  {
   "cell_type": "code",
   "execution_count": null,
   "id": "1b504fca",
   "metadata": {},
   "outputs": [],
   "source": []
  },
  {
   "cell_type": "code",
   "execution_count": null,
   "id": "b716df0f",
   "metadata": {},
   "outputs": [],
   "source": []
  }
 ],
 "metadata": {
  "kernelspec": {
   "display_name": "Python 3 (ipykernel)",
   "language": "python",
   "name": "python3"
  },
  "language_info": {
   "codemirror_mode": {
    "name": "ipython",
    "version": 3
   },
   "file_extension": ".py",
   "mimetype": "text/x-python",
   "name": "python",
   "nbconvert_exporter": "python",
   "pygments_lexer": "ipython3",
   "version": "3.9.13"
  }
 },
 "nbformat": 4,
 "nbformat_minor": 5
}
