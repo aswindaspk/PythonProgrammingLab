{
 "cells": [
  {
   "cell_type": "code",
   "execution_count": 44,
   "metadata": {},
   "outputs": [
    {
     "name": "stdout",
     "output_type": "stream",
     "text": [
      "Enter numbers with Comma-Separated: -10,5,-29,55,66\n",
      "Positive integers of the list are:  [5, 55, 66]\n",
      "Square of numbers in list [100, 25, 841, 3025, 4356]\n",
      "Enter a word: Alphabet\n",
      "Vowels in Alphabet are ['A', 'a', 'e']\n",
      "Ordinal values of ['A', 'l', 'p', 'h', 'a', 'b', 'e', 't'] are:  [65, 108, 112, 104, 97, 98, 101, 116]\n"
     ]
    }
   ],
   "source": [
    "#List of positive numbers from \n",
    "num=input('Enter numbers with Comma-Separated: ').split(',')\n",
    "new=map(int,num)\n",
    "newl=[x for x in new if x>0]\n",
    "print('Positive integers of the list are: ',newl)\n",
    "\n",
    "#square of n numbers\n",
    "new2=map(int,num)\n",
    "sqlist=[x**2 for x in new2]\n",
    "print('Square of numbers in list',sqlist)\n",
    "\n",
    "#list of vowels\n",
    "vw=input('Enter a word: ')\n",
    "vw1=[x for x in vw]\n",
    "vowel=['a','e','i','o','u','A','E','I','O','U']\n",
    "vw2=[x for x in vw1 if x in vowel]\n",
    "print('Vowels in',vw, 'are',vw2)\n",
    "\n",
    "#ordinal values\n",
    "ordinal=[ord(x) for x in vw1]\n",
    "print('Ordinal values of',vw1,'are: ',ordinal)"
   ]
  },
  {
   "cell_type": "code",
   "execution_count": null,
   "metadata": {
    "collapsed": true
   },
   "outputs": [],
   "source": []
  }
 ],
 "metadata": {
  "kernelspec": {
   "display_name": "Python 3",
   "language": "python",
   "name": "python3"
  },
  "language_info": {
   "codemirror_mode": {
    "name": "ipython",
    "version": 3
   },
   "file_extension": ".py",
   "mimetype": "text/x-python",
   "name": "python",
   "nbconvert_exporter": "python",
   "pygments_lexer": "ipython3",
   "version": "3.6.3"
  }
 },
 "nbformat": 4,
 "nbformat_minor": 2
}
