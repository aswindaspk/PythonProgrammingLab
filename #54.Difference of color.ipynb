{
 "cells": [
  {
   "cell_type": "code",
   "execution_count": 13,
   "metadata": {},
   "outputs": [
    {
     "name": "stdout",
     "output_type": "stream",
     "text": [
      "Enter colors for first set with comma separated: blue,red,violet\n",
      "Enter colors for second set with comma separated: green,yellow,red,blue\n",
      "Difference of  {'blue', 'violet', 'red'}  and  {'green', 'blue', 'red', 'yellow'} : \n",
      "{'violet'}\n"
     ]
    }
   ],
   "source": [
    "#Print out all colors from color-list1 not contained in color-list2\n",
    "c1=set(input('Enter colors for first set with comma separated: ').split(','))\n",
    "c2=set(input('Enter colors for second set with comma separated: ').split(','))\n",
    "print('Difference of ',c1,' and ',c2,': ')\n",
    "print(c1.difference(c2))"
   ]
  },
  {
   "cell_type": "code",
   "execution_count": null,
   "metadata": {
    "collapsed": true
   },
   "outputs": [],
   "source": []
  }
 ],
 "metadata": {
  "kernelspec": {
   "display_name": "Python 3",
   "language": "python",
   "name": "python3"
  },
  "language_info": {
   "codemirror_mode": {
    "name": "ipython",
    "version": 3
   },
   "file_extension": ".py",
   "mimetype": "text/x-python",
   "name": "python",
   "nbconvert_exporter": "python",
   "pygments_lexer": "ipython3",
   "version": "3.6.3"
  }
 },
 "nbformat": 4,
 "nbformat_minor": 2
}
