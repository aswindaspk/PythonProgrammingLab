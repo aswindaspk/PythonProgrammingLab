{
 "cells": [
  {
   "cell_type": "code",
   "execution_count": 1,
   "id": "4dd3d7bf",
   "metadata": {},
   "outputs": [
    {
     "name": "stdout",
     "output_type": "stream",
     "text": [
      "Enter colors for first set with comma separated: violet,red,blue,yellow,green\n",
      "Enter colors for second set with comma separated: red,cyan,rose\n",
      "Difference of  {'yellow', 'green', 'blue', 'violet', 'red'}  and  {'cyan', 'red', 'rose'} : {'blue', 'yellow', 'violet', 'green'}\n"
     ]
    }
   ],
   "source": [
    "#Print out all colors from color-list1 not contained in color-list2\n",
    "c1=set(input('Enter colors for first set with comma separated: ').split(','))\n",
    "c2=set(input('Enter colors for second set with comma separated: ').split(','))\n",
    "print('Difference of ',c1,' and ',c2,':',c1.difference(c2))"
   ]
  },
  {
   "cell_type": "code",
   "execution_count": null,
   "id": "ffdaa332",
   "metadata": {},
   "outputs": [],
   "source": []
  }
 ],
 "metadata": {
  "kernelspec": {
   "display_name": "Python 3 (ipykernel)",
   "language": "python",
   "name": "python3"
  },
  "language_info": {
   "codemirror_mode": {
    "name": "ipython",
    "version": 3
   },
   "file_extension": ".py",
   "mimetype": "text/x-python",
   "name": "python",
   "nbconvert_exporter": "python",
   "pygments_lexer": "ipython3",
   "version": "3.9.13"
  }
 },
 "nbformat": 4,
 "nbformat_minor": 5
}
