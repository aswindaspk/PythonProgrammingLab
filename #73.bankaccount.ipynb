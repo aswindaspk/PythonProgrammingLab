{
 "cells": [
  {
   "cell_type": "code",
   "execution_count": null,
   "metadata": {},
   "outputs": [
    {
     "name": "stdout",
     "output_type": "stream",
     "text": [
      "Enter name: Aswin\n",
      "\n",
      "Enter account number: 65\n",
      "\n",
      "Enter account type: 5\n"
     ]
    }
   ],
   "source": [
    "#Create a Bank account with members account_no, name,, type and balance. Write constructor and methods to deposit at bank and withdraw an amount from bank.\n",
    "class bankaccount:\n",
    "    def __init__(self,a_name, a_no,a_type,a_balance):\n",
    "        self.acc_name=a_name\n",
    "        self.acc_no=a_no\n",
    "        self.acc_type=a_type\n",
    "        self.acc_balance=a_balance\n",
    "\n",
    "    def deposit(self,a_deposit):\n",
    "        print(\"\\nInitial balance: \",self.acc_balance)\n",
    "        self.acc_balance+=a_deposit\n",
    "        print(a_deposit, \"is deposited\")\n",
    "        print(\"\\ncurrent balance: \",self.acc_balance)\n",
    "\n",
    "    def withdraw(self):\n",
    "        self.amount=int(input(\"\\nWithdraw amount: \"))\n",
    "        print(\"\\nInitial balance: \",self.acc_balance)\n",
    "        if self.amount > self.acc_balance:\n",
    "            print(\"\\nYou don't have enough balance to withdraw !!\")\n",
    "            print(\"\\nCurrent balance: \",self.acc_balance)\n",
    "        else:\n",
    "            print(self.amount,\" is withdrawed\")\n",
    "            self.acc_balance-=self.amount\n",
    "            print(\"Current balance: \",self.acc_balance)\n",
    "        \n",
    "    def acc_info(self):\n",
    "        print(\"\\nAccount holder Name: \", self.acc_name)\n",
    "        print(\"\\nAccount Number: \", self.acc_no)\n",
    "        print(\"\\nAccount Type: \", self.acc_type)\n",
    "        print(\"\\nAccount Balance: \", self.acc_balance)\n",
    "        \n",
    "name=input(\"Enter name: \")\n",
    "no=int(input(\"\\nEnter account number: \"))\n",
    "type=input(\"\\nEnter account type: \")\n",
    "bal=int(input(\"\\nEnter initial balance: \"))\n",
    "holder=bankaccount(name,no,type,bal)\n",
    "    \n",
    "while(True):\n",
    "    ch=int(input(\"\\n\\n1.Deposit 2.Withdraw 3.Account info 4.Exit\\n Choose your option: \"))\n",
    "    if ch==1:\n",
    "        amount=int(input(\"\\nDeposit amount: \"))\n",
    "        holder.deposit(amount)\n",
    "    elif ch==2:\n",
    "        holder.withdraw()\n",
    "    elif ch==3:\n",
    "        holder.acc_info()\n",
    "    else:\n",
    "        print(\"\\n\\nExiting...\")\n",
    "        break"
   ]
  },
  {
   "cell_type": "code",
   "execution_count": null,
   "metadata": {
    "collapsed": true
   },
   "outputs": [],
   "source": []
  }
 ],
 "metadata": {
  "kernelspec": {
   "display_name": "Python 3",
   "language": "python",
   "name": "python3"
  },
  "language_info": {
   "codemirror_mode": {
    "name": "ipython",
    "version": 3
   },
   "file_extension": ".py",
   "mimetype": "text/x-python",
   "name": "python",
   "nbconvert_exporter": "python",
   "pygments_lexer": "ipython3",
   "version": "3.6.3"
  }
 },
 "nbformat": 4,
 "nbformat_minor": 2
}
