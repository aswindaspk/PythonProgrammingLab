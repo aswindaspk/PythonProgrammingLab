{
 "cells": [
  {
   "cell_type": "code",
   "execution_count": 2,
   "metadata": {},
   "outputs": [
    {
     "name": "stdout",
     "output_type": "stream",
     "text": [
      "Enter numbers Comma-Separated: 1,2,3,4,5,6,7\n",
      "Enter numbers Comma-Separated: 7,8,9,1,2,6,7,86\n",
      "Two lists have unequal length\n",
      "\n",
      "Sum of two list are  not equal\n",
      "1  occurs in both list\n",
      "2  occurs in both list\n",
      "6  occurs in both list\n",
      "7  occurs in both list\n",
      "7  occurs in both list\n"
     ]
    }
   ],
   "source": [
    "lst1 = input('Enter numbers Comma-Separated: ').split(',')\n",
    "lst2 = input('Enter numbers Comma-Separated: ').split(',')\n",
    "sum1 = 0\n",
    "sum2 = 0\n",
    "if len(lst1) == len(lst2):\n",
    "    print(\"both list are of equal length\")\n",
    "else:\n",
    "    print(\"Two lists have unequal length\")\n",
    "for x in lst1:\n",
    "    sum1 = sum1 + int(x)\n",
    "for x in lst2:\n",
    "    sum2 = sum2 + int(x)\n",
    "if sum1 == sum2:\n",
    "    a = \"equal\"  \n",
    "else:\n",
    "    a = \"not equal\"  \n",
    "print(\"\\nSum of two list are \", a)  \n",
    "for x in lst1:\n",
    "    for y in lst2:\n",
    "        if x == y:\n",
    "            print(y,\" occurs in both list\")"
   ]
  },
  {
   "cell_type": "code",
   "execution_count": null,
   "metadata": {
    "collapsed": true
   },
   "outputs": [],
   "source": []
  }
 ],
 "metadata": {
  "kernelspec": {
   "display_name": "Python 3",
   "language": "python",
   "name": "python3"
  },
  "language_info": {
   "codemirror_mode": {
    "name": "ipython",
    "version": 3
   },
   "file_extension": ".py",
   "mimetype": "text/x-python",
   "name": "python",
   "nbconvert_exporter": "python",
   "pygments_lexer": "ipython3",
   "version": "3.6.3"
  }
 },
 "nbformat": 4,
 "nbformat_minor": 2
}
