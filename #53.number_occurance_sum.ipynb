{
 "cells": [
  {
   "cell_type": "code",
   "execution_count": 10,
   "id": "11918fef",
   "metadata": {},
   "outputs": [
    {
     "name": "stdout",
     "output_type": "stream",
     "text": [
      "Enter numbers Comma-Separated: 1,2,3,4,5\n",
      "Enter numbers Comma-Separated: 5,6,7,4,3\n",
      "both list are of equal length\n",
      "\n",
      "Sum of two list are not equal\n",
      "3  occurs in both list\n",
      "4  occurs in both list\n",
      "5  occurs in both list\n"
     ]
    }
   ],
   "source": [
    "lst1 = map(int,input('Enter numbers Comma-Separated: ').split(','))\n",
    "new1=[x for x in lst1]\n",
    "lst2 = map(int,input('Enter numbers Comma-Separated: ').split(','))\n",
    "new2=[x for x in lst2]\n",
    "sum1 = 0\n",
    "sum2 = 0\n",
    "if len(new1) == len(new2):\n",
    "    print(\"both list are of equal length\")\n",
    "else:\n",
    "    print(\"Two lists have unequal length\")\n",
    "for x in new1:\n",
    "    sum1 = sum1 + x\n",
    "for x in new2:\n",
    "    sum2 = sum2 + x\n",
    "if sum1 == sum2:\n",
    "    a = \"equal\"  \n",
    "else:\n",
    "    a = \"not equal\"  \n",
    "print(\"\\nSum of two list are\", a)  \n",
    "for x in new1:\n",
    "    for y in new2:\n",
    "        if x == y:\n",
    "            print(y,\" occurs in both list\")"
   ]
  },
  {
   "cell_type": "code",
   "execution_count": null,
   "id": "a27661bc",
   "metadata": {},
   "outputs": [],
   "source": []
  }
 ],
 "metadata": {
  "kernelspec": {
   "display_name": "Python 3 (ipykernel)",
   "language": "python",
   "name": "python3"
  },
  "language_info": {
   "codemirror_mode": {
    "name": "ipython",
    "version": 3
   },
   "file_extension": ".py",
   "mimetype": "text/x-python",
   "name": "python",
   "nbconvert_exporter": "python",
   "pygments_lexer": "ipython3",
   "version": "3.9.13"
  }
 },
 "nbformat": 4,
 "nbformat_minor": 5
}
