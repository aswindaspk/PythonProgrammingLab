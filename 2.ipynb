{
 "cells": [
  {
   "cell_type": "code",
   "execution_count": 28,
   "metadata": {},
   "outputs": [
    {
     "name": "stdout",
     "output_type": "stream",
     "text": [
      "Length of a side is:5\n",
      "Area of square is: 25\n"
     ]
    }
   ],
   "source": [
    "a=int(input(\"Length of a side is:\"))\n",
    "print('Area of square is: %d' %(a*a))"
   ]
  },
  {
   "cell_type": "code",
   "execution_count": 25,
   "metadata": {},
   "outputs": [
    {
     "name": "stdout",
     "output_type": "stream",
     "text": [
      "ksb is string and 2 is number\n"
     ]
    }
   ],
   "source": [
    "a=2\n",
    "b='ksb'\n",
    "print(\"%s is string and %d is number\" %(b,a))"
   ]
  },
  {
   "cell_type": "code",
   "execution_count": 29,
   "metadata": {},
   "outputs": [
    {
     "data": {
      "text/plain": [
       "int"
      ]
     },
     "execution_count": 29,
     "metadata": {},
     "output_type": "execute_result"
    }
   ],
   "source": [
    "type(a)"
   ]
  },
  {
   "cell_type": "code",
   "execution_count": 30,
   "metadata": {},
   "outputs": [
    {
     "name": "stdout",
     "output_type": "stream",
     "text": [
      "Enter username: Aswin\n"
     ]
    }
   ],
   "source": [
    "user=input('Enter username: ')"
   ]
  },
  {
   "cell_type": "code",
   "execution_count": 31,
   "metadata": {},
   "outputs": [
    {
     "data": {
      "text/plain": [
       "str"
      ]
     },
     "execution_count": 31,
     "metadata": {},
     "output_type": "execute_result"
    }
   ],
   "source": [
    "type(user)"
   ]
  },
  {
   "cell_type": "code",
   "execution_count": 34,
   "metadata": {},
   "outputs": [
    {
     "name": "stdout",
     "output_type": "stream",
     "text": [
      "Enter a num:2\n"
     ]
    }
   ],
   "source": [
    "n=int(input('Enter a num:'))"
   ]
  },
  {
   "cell_type": "code",
   "execution_count": 35,
   "metadata": {},
   "outputs": [
    {
     "data": {
      "text/plain": [
       "int"
      ]
     },
     "execution_count": 35,
     "metadata": {},
     "output_type": "execute_result"
    }
   ],
   "source": [
    "type(n)"
   ]
  },
  {
   "cell_type": "code",
   "execution_count": 36,
   "metadata": {
    "collapsed": true
   },
   "outputs": [],
   "source": [
    "n=str(n)"
   ]
  },
  {
   "cell_type": "code",
   "execution_count": 37,
   "metadata": {},
   "outputs": [
    {
     "data": {
      "text/plain": [
       "str"
      ]
     },
     "execution_count": 37,
     "metadata": {},
     "output_type": "execute_result"
    }
   ],
   "source": [
    "type(n)"
   ]
  },
  {
   "cell_type": "code",
   "execution_count": 39,
   "metadata": {},
   "outputs": [
    {
     "name": "stdout",
     "output_type": "stream",
     "text": [
      "Enter 1st num:3\n",
      "Enter 2nd num:3\n",
      "Sum of a 3 and 3 is 6\n"
     ]
    }
   ],
   "source": [
    "a=int(input('Enter 1st num:'))\n",
    "b=int(input('Enter 2nd num:'))\n",
    "print(\"Sum of a %d and %d is %d\" %(a,b,a+b))"
   ]
  },
  {
   "cell_type": "code",
   "execution_count": 43,
   "metadata": {},
   "outputs": [
    {
     "name": "stdout",
     "output_type": "stream",
     "text": [
      "Enter the side of triangle: 7\n",
      "Enter the height of triangle: 8\n",
      "Area of a right angled triangle of side 7 and height 8 is: 28\n"
     ]
    }
   ],
   "source": [
    "a=int(input(\"Enter the side of triangle: \"))\n",
    "b=int(input(\"Enter the height of triangle: \"))\n",
    "print(\"Area of a right angled triangle of side %d and height %d is: %d\"%(a,b,(a*b)/2))"
   ]
  },
  {
   "cell_type": "code",
   "execution_count": 55,
   "metadata": {},
   "outputs": [
    {
     "name": "stdout",
     "output_type": "stream",
     "text": [
      "Enter your Name: Aswin\n",
      "Hello Aswin!\n"
     ]
    }
   ],
   "source": [
    "a=input('Enter your Name: ')\n",
    "print('Hello %s!' %(a))"
   ]
  },
  {
   "cell_type": "code",
   "execution_count": 46,
   "metadata": {},
   "outputs": [
    {
     "name": "stdout",
     "output_type": "stream",
     "text": [
      "Enter a number: 6\n",
      "The previous number of 6 is 5 and the next number is 7\n"
     ]
    }
   ],
   "source": [
    "a=int(input('Enter a number: '))\n",
    "print('The previous number of %d is %d and the next number is %d' %(a,a-1,a+1))"
   ]
  },
  {
   "cell_type": "code",
   "execution_count": 54,
   "metadata": {},
   "outputs": [
    {
     "name": "stdout",
     "output_type": "stream",
     "text": [
      "Enter the Initial amount: 10000\n",
      "Enter the Number of Years: 2\n",
      "Enter the Rate of Interest: 4\n",
      "Simple interest is: 800\n",
      "Total amount after 2 year(s) is: 10800\n"
     ]
    }
   ],
   "source": [
    "i=int(input('Enter the Initial amount: '))\n",
    "n=int(input('Enter the Number of Years: '))\n",
    "r=int(input('Enter the Rate of Interest: '))\n",
    "print('Simple interest is: %d' %((i*n*r)/100))\n",
    "print('Total amount after %d year(s) is: %d'%(n,i+(i*n*r)/100))"
   ]
  },
  {
   "cell_type": "code",
   "execution_count": null,
   "metadata": {
    "collapsed": true
   },
   "outputs": [],
   "source": []
  }
 ],
 "metadata": {
  "kernelspec": {
   "display_name": "Python 3",
   "language": "python",
   "name": "python3"
  },
  "language_info": {
   "codemirror_mode": {
    "name": "ipython",
    "version": 3
   },
   "file_extension": ".py",
   "mimetype": "text/x-python",
   "name": "python",
   "nbconvert_exporter": "python",
   "pygments_lexer": "ipython3",
   "version": "3.6.3"
  }
 },
 "nbformat": 4,
 "nbformat_minor": 2
}
