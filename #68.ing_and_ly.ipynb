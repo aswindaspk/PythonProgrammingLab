{
 "cells": [
  {
   "cell_type": "code",
   "execution_count": 7,
   "metadata": {},
   "outputs": [
    {
     "name": "stdout",
     "output_type": "stream",
     "text": [
      "Enter a word:bowl\n",
      "The word is: bowling\n"
     ]
    }
   ],
   "source": [
    "#Add ‘ing’ at the end of a given string. If it already ends with ‘ing’, then add ‘ly’.\n",
    "l=input('Enter a word:')\n",
    "if(l[-3:]=='ing'):\n",
    "    l=l+'ly'\n",
    "    print(\"The word is:\",l)\n",
    "else:\n",
    "    l=l+'ing'\n",
    "    print('The word is:',l)\n"
   ]
  },
  {
   "cell_type": "code",
   "execution_count": null,
   "metadata": {
    "collapsed": true
   },
   "outputs": [],
   "source": []
  }
 ],
 "metadata": {
  "kernelspec": {
   "display_name": "Python 3",
   "language": "python",
   "name": "python3"
  },
  "language_info": {
   "codemirror_mode": {
    "name": "ipython",
    "version": 3
   },
   "file_extension": ".py",
   "mimetype": "text/x-python",
   "name": "python",
   "nbconvert_exporter": "python",
   "pygments_lexer": "ipython3",
   "version": "3.6.3"
  }
 },
 "nbformat": 4,
 "nbformat_minor": 2
}
