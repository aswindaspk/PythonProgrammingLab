{
 "cells": [
  {
   "cell_type": "code",
   "execution_count": 3,
   "id": "135e9269",
   "metadata": {},
   "outputs": [
    {
     "name": "stdout",
     "output_type": "stream",
     "text": [
      "Enter numbers Comma-Separated: 2,3,7,9,11,23,45,88\n",
      "List Items =  [2, 3, 7, 9, 11, 23, 45, 88]\n",
      "List after removing even Numbers =  [3, 7, 9, 11, 23, 45]\n"
     ]
    }
   ],
   "source": [
    "#Remove even numbers from list\n",
    "lst = map(int,input('Enter numbers Comma-Separated: ').split(','))\n",
    "lst1=[x for x in lst]\n",
    "print(\"List Items = \", lst1)\n",
    "\n",
    "for even in lst1:\n",
    "    if (even % 2 == 0):\n",
    "        lst1.remove(even)\n",
    "    \n",
    "print(\"List after removing even Numbers = \", lst1)"
   ]
  },
  {
   "cell_type": "code",
   "execution_count": null,
   "id": "4a223787",
   "metadata": {},
   "outputs": [],
   "source": []
  }
 ],
 "metadata": {
  "kernelspec": {
   "display_name": "Python 3 (ipykernel)",
   "language": "python",
   "name": "python3"
  },
  "language_info": {
   "codemirror_mode": {
    "name": "ipython",
    "version": 3
   },
   "file_extension": ".py",
   "mimetype": "text/x-python",
   "name": "python",
   "nbconvert_exporter": "python",
   "pygments_lexer": "ipython3",
   "version": "3.9.13"
  }
 },
 "nbformat": 4,
 "nbformat_minor": 5
}
