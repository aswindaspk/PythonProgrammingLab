{
 "cells": [
  {
   "cell_type": "code",
   "execution_count": 4,
   "metadata": {},
   "outputs": [
    {
     "name": "stdout",
     "output_type": "stream",
     "text": [
      "Enter 1st number: 2\n",
      "Enter 2nd number: 3\n",
      "Which operatin you want to perform?\n",
      "1.Additon\n",
      "2.Subtraction\n",
      "3.Multiplication\n",
      "4.Division\n",
      "Enter an option: 9\n",
      "Enter a valid option\n"
     ]
    }
   ],
   "source": [
    "a=int(input('Enter 1st number: '))\n",
    "b=int(input('Enter 2nd number: '))\n",
    "print('Which operatin you want to perform?')\n",
    "print('1.Additon')\n",
    "print('2.Subtraction')\n",
    "print('3.Multiplication')\n",
    "print('4.Division')\n",
    "c=int(input('Enter an option: '))\n",
    "if(c==1):\n",
    "    print('%d+%d=%d' %(a,b,a+b))\n",
    "elif(c==2):\n",
    "    print('%d-%d=%d' %(a,b,a-b))\n",
    "elif(c==3):\n",
    "    print('%d*%d=%d' %(a,b,a*b))\n",
    "elif(c==4):\n",
    "    print('%d/%d=%d' %(a,b,a/b))\n",
    "else:\n",
    "    print('Enter a valid option')"
   ]
  },
  {
   "cell_type": "code",
   "execution_count": null,
   "metadata": {
    "collapsed": true
   },
   "outputs": [],
   "source": []
  }
 ],
 "metadata": {
  "kernelspec": {
   "display_name": "Python 3",
   "language": "python",
   "name": "python3"
  },
  "language_info": {
   "codemirror_mode": {
    "name": "ipython",
    "version": 3
   },
   "file_extension": ".py",
   "mimetype": "text/x-python",
   "name": "python",
   "nbconvert_exporter": "python",
   "pygments_lexer": "ipython3",
   "version": "3.6.3"
  }
 },
 "nbformat": 4,
 "nbformat_minor": 2
}
